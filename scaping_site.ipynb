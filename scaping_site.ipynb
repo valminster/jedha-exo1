{
 "cells": [
  {
   "cell_type": "code",
   "execution_count": 60,
   "metadata": {},
   "outputs": [
    {
     "name": "stdout",
     "output_type": "stream",
     "text": [
      "import Ok\n"
     ]
    }
   ],
   "source": [
    "import requests\n",
    "from bs4 import BeautifulSoup\n",
    "import requests\n",
    "import pandas as pd\n",
    "import json\n",
    "print('import Ok')"
   ]
  },
  {
   "cell_type": "code",
   "execution_count": 2,
   "metadata": {},
   "outputs": [],
   "source": [
    "site=\"https://www.listchallenges.com/completely-random-movie-list\""
   ]
  },
  {
   "cell_type": "code",
   "execution_count": 4,
   "metadata": {},
   "outputs": [],
   "source": [
    "response = requests.get(site).text\n",
    "challenges_html = BeautifulSoup(response, \"lxml\")"
   ]
  },
  {
   "cell_type": "code",
   "execution_count": 7,
   "metadata": {},
   "outputs": [],
   "source": [
    "base=challenges_html.select('div.checklist-itemsSectionLeft')"
   ]
  },
  {
   "cell_type": "code",
   "execution_count": 12,
   "metadata": {},
   "outputs": [],
   "source": [
    "#challenges_html.select('div.item-name')"
   ]
  },
  {
   "cell_type": "code",
   "execution_count": 67,
   "metadata": {},
   "outputs": [],
   "source": [
    "def get_title(html):\n",
    "    return [\n",
    "        l.get_text(strip=True).split('(')[0]\n",
    "        for l in html.select('div.item-name')\n",
    "    ]    "
   ]
  },
  {
   "cell_type": "code",
   "execution_count": 70,
   "metadata": {},
   "outputs": [],
   "source": [
    "df=({'Titre':get_title(challenges_html)})"
   ]
  },
  {
   "cell_type": "code",
   "execution_count": 69,
   "metadata": {},
   "outputs": [
    {
     "data": {
      "text/html": [
       "<div>\n",
       "<style scoped>\n",
       "    .dataframe tbody tr th:only-of-type {\n",
       "        vertical-align: middle;\n",
       "    }\n",
       "\n",
       "    .dataframe tbody tr th {\n",
       "        vertical-align: top;\n",
       "    }\n",
       "\n",
       "    .dataframe thead th {\n",
       "        text-align: right;\n",
       "    }\n",
       "</style>\n",
       "<table border=\"1\" class=\"dataframe\">\n",
       "  <thead>\n",
       "    <tr style=\"text-align: right;\">\n",
       "      <th></th>\n",
       "      <th>Titre</th>\n",
       "    </tr>\n",
       "  </thead>\n",
       "  <tbody>\n",
       "    <tr>\n",
       "      <th>0</th>\n",
       "      <td>Detachment</td>\n",
       "    </tr>\n",
       "    <tr>\n",
       "      <th>1</th>\n",
       "      <td>Horrible Bosses 2</td>\n",
       "    </tr>\n",
       "    <tr>\n",
       "      <th>2</th>\n",
       "      <td>Death of a Salesman</td>\n",
       "    </tr>\n",
       "    <tr>\n",
       "      <th>3</th>\n",
       "      <td>Intermission</td>\n",
       "    </tr>\n",
       "    <tr>\n",
       "      <th>4</th>\n",
       "      <td>October Sky</td>\n",
       "    </tr>\n",
       "  </tbody>\n",
       "</table>\n",
       "</div>"
      ],
      "text/plain": [
       "                 Titre\n",
       "0          Detachment \n",
       "1   Horrible Bosses 2 \n",
       "2  Death of a Salesman\n",
       "3        Intermission \n",
       "4         October Sky "
      ]
     },
     "execution_count": 69,
     "metadata": {},
     "output_type": "execute_result"
    }
   ],
   "source": [
    "df.head()"
   ]
  },
  {
   "cell_type": "code",
   "execution_count": 31,
   "metadata": {},
   "outputs": [
    {
     "data": {
      "text/plain": [
       "array([['Detachment '],\n",
       "       ['Horrible Bosses 2 '],\n",
       "       ['Death of a Salesman'],\n",
       "       ['Intermission '],\n",
       "       ['October Sky '],\n",
       "       ['Blackfish '],\n",
       "       ['Hotel Transylvania '],\n",
       "       ['Moon '],\n",
       "       ['Les Choristes'],\n",
       "       ['Interstellar '],\n",
       "       ['The Strangers '],\n",
       "       ['The Godfather '],\n",
       "       ['Pulp Fiction '],\n",
       "       ['The Fault in Our Stars '],\n",
       "       [\"Ferris Bueller's Day Off \"],\n",
       "       ['Primal Fear '],\n",
       "       ['American Beauty '],\n",
       "       ['Crash '],\n",
       "       ['Chronicle '],\n",
       "       ['The Spiderwick Chronicles '],\n",
       "       ['Andre '],\n",
       "       ['Edge of Tomorrow '],\n",
       "       ['127 Hours '],\n",
       "       ['Dawn of the Planet of the Apes '],\n",
       "       ['Nurse Betty '],\n",
       "       [\"Bridget Jones's Diary \"],\n",
       "       ['Turbo '],\n",
       "       [\"Ocean's Eleven \"],\n",
       "       ['Sliding Doors '],\n",
       "       ['Pleasantville '],\n",
       "       ['Jurassic Park '],\n",
       "       ['The Mummy '],\n",
       "       ['The Fantastic Four'],\n",
       "       ['Spider-Man '],\n",
       "       ['Spider-Man 2 '],\n",
       "       ['The Day After Tomorrow '],\n",
       "       ['I, Robot '],\n",
       "       ['Mr. & Mrs. Smith '],\n",
       "       ['Iron Man '],\n",
       "       ['Spider-Man 3 ']], dtype=object)"
      ]
     },
     "execution_count": 31,
     "metadata": {},
     "output_type": "execute_result"
    }
   ],
   "source": [
    "df.values"
   ]
  },
  {
   "cell_type": "code",
   "execution_count": 86,
   "metadata": {},
   "outputs": [
    {
     "data": {
      "text/plain": [
       "<Response [500]>"
      ]
     },
     "execution_count": 86,
     "metadata": {},
     "output_type": "execute_result"
    }
   ],
   "source": [
    "data={\n",
    "    'film':json.dumps(df)\n",
    "}\n",
    "\n",
    "requests.post('http://127.0.0.1:5000/get_info_film',data=data)"
   ]
  },
  {
   "cell_type": "code",
   "execution_count": 72,
   "metadata": {},
   "outputs": [
    {
     "data": {
      "text/plain": [
       "'{\"Titre\": [\"Detachment \", \"Horrible Bosses 2 \", \"Death of a Salesman\", \"Intermission \", \"October Sky \", \"Blackfish \", \"Hotel Transylvania \", \"Moon \", \"Les Choristes\", \"Interstellar \", \"The Strangers \", \"The Godfather \", \"Pulp Fiction \", \"The Fault in Our Stars \", \"Ferris Bueller\\'s Day Off \", \"Primal Fear \", \"American Beauty \", \"Crash \", \"Chronicle \", \"The Spiderwick Chronicles \", \"Andre \", \"Edge of Tomorrow \", \"127 Hours \", \"Dawn of the Planet of the Apes \", \"Nurse Betty \", \"Bridget Jones\\'s Diary \", \"Turbo \", \"Ocean\\'s Eleven \", \"Sliding Doors \", \"Pleasantville \", \"Jurassic Park \", \"The Mummy \", \"The Fantastic Four\", \"Spider-Man \", \"Spider-Man 2 \", \"The Day After Tomorrow \", \"I, Robot \", \"Mr. & Mrs. Smith \", \"Iron Man \", \"Spider-Man 3 \"]}'"
      ]
     },
     "execution_count": 72,
     "metadata": {},
     "output_type": "execute_result"
    }
   ],
   "source": []
  },
  {
   "cell_type": "code",
   "execution_count": 33,
   "metadata": {},
   "outputs": [],
   "source": [
    "api='http://www.omdbapi.com/?t='\n",
    "key='&apikey=952090a1'\n",
    "info = requests.get(\"{}{}{}\".format(api, '', key)).json()"
   ]
  },
  {
   "cell_type": "code",
   "execution_count": 56,
   "metadata": {},
   "outputs": [],
   "source": [
    "film_liste = [\n",
    "    requests.get(\"http://www.omdbapi.com/?t={}&apikey=952090a1\".format(l)).json()\n",
    "    for l in df.values\n",
    "]"
   ]
  },
  {
   "cell_type": "code",
   "execution_count": 57,
   "metadata": {},
   "outputs": [
    {
     "data": {
      "text/plain": [
       "40"
      ]
     },
     "execution_count": 57,
     "metadata": {},
     "output_type": "execute_result"
    }
   ],
   "source": [
    "len(film_liste)"
   ]
  },
  {
   "cell_type": "code",
   "execution_count": 58,
   "metadata": {},
   "outputs": [
    {
     "data": {
      "text/plain": [
       "{'Title': 'Detachment',\n",
       " 'Year': '2011',\n",
       " 'Rated': 'Not Rated',\n",
       " 'Released': '01 Feb 2012',\n",
       " 'Runtime': '98 min',\n",
       " 'Genre': 'Drama',\n",
       " 'Director': 'Tony Kaye',\n",
       " 'Writer': 'Carl Lund',\n",
       " 'Actors': 'Adrien Brody, Marcia Gay Harden, James Caan, Christina Hendricks',\n",
       " 'Plot': 'A substitute teacher who drifts from classroom to classroom finds a connection to the students and teachers during his latest assignment.',\n",
       " 'Language': 'English',\n",
       " 'Country': 'USA',\n",
       " 'Awards': '8 wins & 6 nominations.',\n",
       " 'Poster': 'https://m.media-amazon.com/images/M/MV5BMTM3NzQzMDA5Ml5BMl5BanBnXkFtZTcwODA5NTcyNw@@._V1_SX300.jpg',\n",
       " 'Ratings': [{'Source': 'Internet Movie Database', 'Value': '7.7/10'},\n",
       "  {'Source': 'Rotten Tomatoes', 'Value': '57%'},\n",
       "  {'Source': 'Metacritic', 'Value': '52/100'}],\n",
       " 'Metascore': '52',\n",
       " 'imdbRating': '7.7',\n",
       " 'imdbVotes': '69,799',\n",
       " 'imdbID': 'tt1683526',\n",
       " 'Type': 'movie',\n",
       " 'DVD': '18 Sep 2012',\n",
       " 'BoxOffice': '$48,868',\n",
       " 'Production': 'Tribeca Films',\n",
       " 'Website': 'http://www.detachment-film.com',\n",
       " 'Response': 'True'}"
      ]
     },
     "execution_count": 58,
     "metadata": {},
     "output_type": "execute_result"
    }
   ],
   "source": [
    "film_liste[0]"
   ]
  },
  {
   "cell_type": "code",
   "execution_count": null,
   "metadata": {},
   "outputs": [],
   "source": []
  }
 ],
 "metadata": {
  "kernelspec": {
   "display_name": "Python 3",
   "language": "python",
   "name": "python3"
  },
  "language_info": {
   "codemirror_mode": {
    "name": "ipython",
    "version": 3
   },
   "file_extension": ".py",
   "mimetype": "text/x-python",
   "name": "python",
   "nbconvert_exporter": "python",
   "pygments_lexer": "ipython3",
   "version": "3.7.1"
  }
 },
 "nbformat": 4,
 "nbformat_minor": 2
}
